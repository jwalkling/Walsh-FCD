{
 "cells": [
  {
   "cell_type": "markdown",
   "id": "b90dc97d-0203-43f7-9473-3f0b01867d42",
   "metadata": {},
   "source": [
    "# Walsh Floquet Counterdiabatic Driving\n",
    "Since the start of my PhD, I have been saying this should be tested, so I might as well go and test it. I want to see if I can find a variatinoal solution to the counterdiabatic drive for the following system:\n",
    "$$\\hat{H}(t) = B_z \\sigma^z + B_x \\text{Sq}(t) \\sigma^x,$$\n",
    "where we drive the system with a square wave that is a single mode in the Walsh basis. We can imagine that we allow $B_x$ to also be time-dependent (henceforth referred to as $\\lambda(t)$) and we want to remain in a given Floquet state via counterdiabatic driving. \n",
    "\n",
    "The counterdiabatic form of the Hamiltonian is given by\n",
    "$$\\hat{H}_{CD, \\lambda(t)} = \\hat{H}_{\\lambda(t)}(t) + \\dot{\\lambda} \\mathcal{A}_{\\lambda(t)}(t).$$\n",
    "\n",
    "The FAGP can be approximated using the variational principle\n",
    "$$\\mathcal{A}_\\lambda \\approx \\chi_\\lambda \\text{ where } \\mathcal{S}[\\chi_\\lambda] = \\int_0^T \\text{Tr}[\\mathcal{G}^2(\\chi_\\lambda(t))] \\text{d}t,$$\n",
    "and we define $\\mathcal{G}(\\chi_\\lambda) = i[H_\\lambda(t), \\chi_\\lambda(t)]+ \\partial_t \\chi_\\lambda-\\partial_\\lambda H_\\lambda$.\n",
    "\n",
    "While generically it is very complicated to solve for this, we are restricted to the Hilbert space of a single spin and can reduce $\\chi_\\lambda$ to have four components corresponding to the Pauli matrices. This gives\n",
    "$$\\chi_\\lambda = \\mathbf{a}(t) \\cdot \\sigma.$$"
   ]
  },
  {
   "cell_type": "markdown",
   "id": "a5ca415d-1dcb-40e1-8e14-4f3d56e2cbf7",
   "metadata": {},
   "source": [
    "## Calculation Functions\n",
    "For later use, it is in our interest to define several useful pieces. For example, the Pauli matrices among others. We will just define the Walsh derivative locally here for now. For this first pass, we define the functions as three index tensors $f_{ijt}$ where $ij$ describe the physical Hilbert space and t describes the time evolution parameter."
   ]
  },
  {
   "cell_type": "code",
   "execution_count": 97,
   "id": "7f371ade-26b8-4c19-a701-ff2cb4eacdb8",
   "metadata": {},
   "outputs": [],
   "source": [
    "import numpy as np\n",
    "import scipy.linalg as sp\n",
    "import matplotlib.pyplot as plt\n",
    "import timeit\n",
    "\n",
    "#Pauli matrices\n",
    "s0 = np.eye(2)\n",
    "s1 = np.array([[0,1],[1,0]])\n",
    "s2 = np.array([[0,-1j],[1j,0]])\n",
    "s3 = np.array([[1,0],[0,-1]])\n",
    "paulis=[s1,s2,s3]\n",
    "\n",
    "#Using the definition as the generator of translations, finds the derivative in the Walsh basis.\n",
    "#input is N=2**n.\n",
    "def WalshD(N):\n",
    "    Walsh=sp.hadamard(N) #Generate all the Walsh functions from the Hadamard array.\n",
    "    translatedWalsh=np.roll(Walsh,1,axis=1) #Shift the whole thing over by 1 by simply pushing all the columns periodically 1.\n",
    "    Translation=1/N*np.matmul(translatedWalsh,np.transpose(Walsh)) #Invert Ax=x' to A=x' x^T to find the translation operator.\n",
    "\n",
    "    return N/(2*np.pi)*sp.logm(Translation) #Rewrite it as generator of translations where T=exp(2 pi G/N).\n",
    "\n",
    "def Deriv(N):\n",
    "    sites=np.eye(N)\n",
    "    translatedsites=np.roll(sites,1,axis=1)\n",
    "    Translation=1/N*np.matmul(translatedsites,np.transpose(sites)) #Invert Ax=x' to A=x' x^T to find the translation operator.\n",
    "\n",
    "    return N/(2*np.pi)*sp.logm(Translation) #Rewrite it as generator of translations where T=exp(2 pi G/N).\n",
    "\n",
    "#generate operator set for a given number of modes, N\n",
    "def genOs(N):\n",
    "    Os=[]\n",
    "    Walsh=1/np.sqrt(N)*sp.hadamard(N) #Normalise the Hadamard\n",
    "    for i in range(N):\n",
    "        Wi=Walsh[:,i]\n",
    "        for s in paulis:\n",
    "            O=np.stack([s*w for w in Wi], axis=2)\n",
    "            Os.append(O)\n",
    "    return Os\n",
    "\n",
    "def genDOs(N):\n",
    "    DOs=[]\n",
    "    DWalsh=1/np.sqrt(N)*WalshD(N)@sp.hadamard(N) #Normalise the Hadamard\n",
    "    for i in range(N):\n",
    "        DWi=DWalsh[i,:] #Rows are the time-dependence of the differentiated Walsh functions\n",
    "        for s in paulis:\n",
    "            DO=np.stack([s*w for w in DWi], axis=2)\n",
    "            DOs.append(DO)\n",
    "    return DOs\n",
    "\n",
    "#Takes a 2 x 2 hermitian matrix and decomposes it into its constituent paulis\n",
    "def PauliDecompose(H):\n",
    "    return 1/2*np.trace(H@s1), 1/2*np.trace(H@s2), 1/2*np.trace(H@s3)\n",
    "\n",
    "#Time dep pauli decompose\n",
    "def Paulit(Ht):\n",
    "    Nt=np.shape(Ht)[-1]\n",
    "    fs=np.empty((3,Nt), dtype='complex')\n",
    "    for i in range(Nt):\n",
    "        f1,f2,f3=PauliDecompose(Ht[:,:,i])\n",
    "        fvec=[f1,f2,f3]\n",
    "        for p in range(3): #Iterate over kind of pauli. Identity doesn't affect AGP definition, so don't include.\n",
    "            fs[p,i]=fvec[p]\n",
    "    return fs\n",
    "\n",
    "#OR could do it this way but need to use the derivative in real time.\n",
    "#Walsh derivative acting in the correct way.\n"
   ]
  },
  {
   "cell_type": "markdown",
   "id": "547bc86b-56aa-4a17-bd82-2a84fc582086",
   "metadata": {},
   "source": [
    "## Checking functions\n",
    "Here we set up some functions to help us make sure that our results make sense."
   ]
  },
  {
   "cell_type": "code",
   "execution_count": 137,
   "id": "6ca1ac10-ff2d-41e6-813f-6a4e9b7e2f9b",
   "metadata": {},
   "outputs": [],
   "source": [
    "def commutator(A,B):\n",
    "    #Finds the commutator for A_{ij, t} and B_{ij, t} for all t.\n",
    "    #Returns a tensor $C_{ij, t}$ which is the commutator of the matrices at each time\n",
    "    return np.einsum('ijt,jkt->ikt', A, B)-np.einsum('ijt,jkt->ikt', B, A) \n",
    "\n",
    "def D(Op,N): #take some operator [a,b,t] and find the Walsh derivative with respect to the t part.\n",
    "    Walshd=WalshD(N)\n",
    "    drealspace=1/N*sp.hadamard(N)@Walshd@sp.hadamard(N)\n",
    "    return np.tensordot(Op, drealspace, axes=([2], [1]))"
   ]
  },
  {
   "cell_type": "code",
   "execution_count": 179,
   "id": "5a3dbedc-c707-4e87-8964-714e5aeedf9c",
   "metadata": {},
   "outputs": [
    {
     "name": "stdout",
     "output_type": "stream",
     "text": [
      "[ 0.35355339  0.35355339  0.35355339  0.35355339 -0.35355339 -0.35355339\n",
      " -0.35355339 -0.35355339]\n",
      "[-0.64644661+2.40363696e-17j  0.35355339+1.31699001e-16j\n",
      " -0.35355339+1.42891693e-16j  0.64644661+4.75694335e-17j\n",
      "  0.64644661-2.40363696e-17j -0.35355339-1.31699001e-16j\n",
      "  0.35355339-1.42891693e-16j -0.64644661-4.75694335e-17j]\n"
     ]
    },
    {
     "data": {
      "text/plain": [
       "array([[0.        +0.00000000e+00j, 0.64644661-4.76210391e-18j],\n",
       "       [0.64644661-4.76210391e-18j, 0.        +0.00000000e+00j]])"
      ]
     },
     "execution_count": 179,
     "metadata": {},
     "output_type": "execute_result"
    }
   ],
   "source": [
    "#Testing the derivative\n",
    "Ops=genOs(8)\n",
    "DOps=genDOs(8)\n",
    "sxW1=Ops[3*4]\n",
    "Ops[12][:,:,7] #This is sx*W1(t), single root square wave. \n",
    "DsxW1=DOps[12]\n",
    "#print(sxW1[:,:,5])\n",
    "print(sxW1[0,1,:])\n",
    "print(DsxW1[0,1,:])\n",
    "D(sxW1,8)[:,:,7]"
   ]
  },
  {
   "cell_type": "code",
   "execution_count": 5,
   "id": "3a025250-924d-45c8-b138-70802f7ba830",
   "metadata": {},
   "outputs": [
    {
     "data": {
      "text/plain": [
       "<matplotlib.image.AxesImage at 0x1274c4b50>"
      ]
     },
     "execution_count": 5,
     "metadata": {},
     "output_type": "execute_result"
    },
    {
     "data": {
      "image/png": "[encoded data removed]",
      "text/plain": [
       "<Figure size 640x480 with 1 Axes>"
      ]
     },
     "metadata": {},
     "output_type": "display_data"
    }
   ],
   "source": [
    "plt.imshow(np.abs(Deriv(32)))"
   ]
  },
  {
   "cell_type": "markdown",
   "id": "9315b0a0-1bd7-40ef-9443-16354c83dc97",
   "metadata": {},
   "source": [
    "# Case 1\n",
    "As the simplest first case we study\n",
    "$$H(t)= \\lambda \\sigma^z + (g+ A\\cdot \\text{Sq}(t)) \\sigma^x.$$\n",
    "\n",
    "We store this information by using three indices. The Hamiltonian is H(t) is written as H[i,j,t] where the third direction gives time. To take the trace over the physical Hilbert space part, it is just ```numpy.trace(H, axis1=0, axis2=1).``` All the operators are also written this way.\n",
    "\n",
    "What we ultimately want to calculate is\n",
    "$$\n",
    "\\begin{align}\n",
    "M_{jk}(\\lambda)&= \\int \\text{d}\\phi\\, \\mathrm{Tr} \\left[ g_{j,\\lambda}(\\phi)g_{k,\\lambda}(\\phi) \\right] \\\\\n",
    "b_{j}(\\lambda)&= \\int \\text{d}\\phi \\mathrm{Tr} \\left[ g_{j,\\lambda}(\\phi) \\partial_{\\lambda} H_{\\lambda}(\\phi) \\right] \\\\\n",
    "g_{j,\\lambda}(\\phi)&= i[H_{\\lambda}(\\phi), O_{j}(\\phi)] +\\partial_{\\phi}(O_{j}(\\phi))\n",
    "\\end{align}\n",
    "$$\n",
    "\n",
    "We store the $O_j$ as \"Ops\" where the first three elements are time independent $\\sigma_x, \\sigma_y, \\sigma_z$ then the next three are $\\sigma_x W_1(t), \\sigma_y W_1(t), \\sigma_z W_1(t)$ where the label is the natural ordering for the Walsh and so varies with $N$.\n",
    "\n",
    "We can then find $\\mathbf{x}=\\mathbf{M}^{-1} \\mathbf{b}$ which defines our approximate AGP as\n",
    "$$\\chi=\\sum x_n \\hat{O}_n$$"
   ]
  },
  {
   "cell_type": "code",
   "execution_count": 15,
   "id": "78a4beb0-2230-44ea-a84d-9995f94cce31",
   "metadata": {},
   "outputs": [],
   "source": [
    "def AGP_vary_z(lam, Ops, DOps, sz, sx, Sqtsx, N):\n",
    "    \"\"\"\n",
    "    Variational AGP construction for a given lambda.\n",
    "\n",
    "    Parameters\n",
    "    ----------\n",
    "    lam : float\n",
    "        Current value of lambda.\n",
    "    Ops : np.ndarray\n",
    "        Operator basis, shape (NOs, 2, 2, N).\n",
    "        Index order: (basis_index, a, b, t).\n",
    "    DOps : np.ndarray\n",
    "        Derivative w.r.t. phi of each operator, same shape as Ops.\n",
    "    sz, sx, Sqtsx : np.ndarray\n",
    "        Time-dependent operators (2,2,N) needed to build H(t).\n",
    "    N : int\n",
    "        Number of discrete time points.\n",
    "\n",
    "    Returns\n",
    "    -------\n",
    "    AGPapprox : np.ndarray\n",
    "        Approximate AGP tensor, shape (2, 2, N).\n",
    "    \"\"\"\n",
    "    NOs = Ops.shape[0]\n",
    "\n",
    "    # Hamiltonian and its lambda derivative\n",
    "    Ht   = lam * sz + 1.0 * sx + 3.0 * Sqtsx  # g=1, A=3\n",
    "    dlHt = sz\n",
    "\n",
    "    # Allocate\n",
    "    gmatrices = np.empty((NOs, 2, 2, N), dtype=complex)\n",
    "    bvector   = np.empty((NOs,), dtype=complex)\n",
    "    Mmatrix   = np.empty((NOs, NOs), dtype=complex)\n",
    "\n",
    "    # Build g matrices and b vector\n",
    "    for j in range(NOs):\n",
    "        gmatrix = 1j * commutator(Ht, Ops[j]) + DOps[j]\n",
    "        gmatrices[j] = gmatrix\n",
    "        # b_j = Tr[g_j dlH], integrated over time\n",
    "        bmatrix = np.sum(np.trace(np.einsum('ijt,jkt->ikt', gmatrix, dlHt),\n",
    "                                  axis1=0, axis2=1))\n",
    "        bvector[j] = bmatrix\n",
    "\n",
    "    # Build M matrix\n",
    "    for j1 in range(NOs):\n",
    "        for j2 in range(j1+1):\n",
    "            val = np.sum(np.trace(np.einsum('ijt,jkt->ikt',\n",
    "                                            gmatrices[j1], gmatrices[j2]),\n",
    "                                  axis1=0, axis2=1))\n",
    "            Mmatrix[j1, j2] = val\n",
    "            Mmatrix[j2, j1] = val  # Hermitian\n",
    "\n",
    "    # Solve M X = b\n",
    "    Xvector = np.linalg.solve(Mmatrix, bvector)\n",
    "\n",
    "    # Construct approximate AGP\n",
    "    AGPapprox = np.einsum('j,jabt->abt', Xvector, Ops)\n",
    "\n",
    "    return AGPapprox"
   ]
  },
  {
   "cell_type": "code",
   "execution_count": 13,
   "id": "62a26d66-7c9c-47e7-8cee-7ea5e2841d62",
   "metadata": {},
   "outputs": [
    {
     "data": {
      "text/plain": [
       "[<matplotlib.lines.Line2D at 0x127cb1350>]"
      ]
     },
     "execution_count": 13,
     "metadata": {},
     "output_type": "execute_result"
    },
    {
     "data": {
      "image/png": "[encoded data removed]",
      "text/plain": [
       "<Figure size 640x480 with 1 Axes>"
      ]
     },
     "metadata": {},
     "output_type": "display_data"
    }
   ],
   "source": [
    "n=7\n",
    "N=2**n\n",
    "#Generate operator set\n",
    "Ops=genOs(N)\n",
    "DOps=genDOs(N)\n",
    "\n",
    "sz=Ops[2]\n",
    "sx=Ops[0]\n",
    "Sqtsx=Ops[int(N/2)*3] #sx is multiples of 3, square wave is the N/2th mode.\n",
    "dSqtsx=DOps[int(N/2)*3]\n",
    "\n",
    "l=1 #1\n",
    "g=1 #1\n",
    "A=0.1 #3\n",
    "#In the Os basis\n",
    "Ht=l*sz+g*sx+A*Sqtsx\n",
    "dlHt=sz\n",
    "\n",
    "NOs=len(Ops)\n",
    "gmatrices=np.empty((NOs,2,2,N),dtype='complex') #j, a,b, t are the indices.\n",
    "bvector=np.empty((NOs),dtype='complex') #j, a,b, t are the indices.\n",
    "Mmatrix=np.empty((NOs,NOs), dtype='complex')\n",
    "\n",
    "#Now want to find g matrix g[a,b][t] along with the bvector b[j]\n",
    "for index in range(NOs):\n",
    "    gmatrix=1.j*commutator(Ht,Ops[index])+DOps[index]\n",
    "    bmatrix=np.sum(np.trace(np.einsum('ijt,jkt->ikt', gmatrix, dlHt) ,axis1=0,axis2=1)) #TK can optimise this later in terms of run time.\n",
    "\n",
    "    #Store the values\n",
    "    gmatrices[index,:,:,:]=gmatrix\n",
    "    bvector[index]=bmatrix\n",
    "\n",
    "#Calculate the M matrices as well. (TK Unchecked)\n",
    "for index1 in range(NOs):\n",
    "    for index2 in range(index1+1): #go up to index1 to populate diagonals too.\n",
    "        Mmatrix[index1,index2]=np.sum(np.trace(np.einsum('ijt,jkt->ikt', gmatrices[index1], gmatrices[index2]), axis1=0,axis2=1)) #Outer sum is just the integral.\n",
    "        Mmatrix[index2,index1]=Mmatrix[index1,index2]\n",
    "\n",
    "#plt.plot(np.abs(bvector)) #bvector only has 2 components which is sensible. Only works for\n",
    "\n",
    "\n",
    "#Now we can find the X vector that allows us to construct the approximate AGP\n",
    "Xvector=np.linalg.inv(Mmatrix)@bvector\n",
    "AGPapprox=np.einsum('j,jabt->abt', Xvector, Ops)\n",
    "plt.plot(np.abs(AGPapprox[1,0,:]))"
   ]
  },
  {
   "cell_type": "markdown",
   "id": "d38d0e89-cda1-4a59-b094-4f62aa29e11b",
   "metadata": {},
   "source": [
    "# Case 2\n",
    "As the next case, we study\n",
    "$$H(t)= B_z \\sigma^z + (g+ \\lambda \\cdot \\text{Sq}(t)) \\sigma^x,$$\n",
    "\n",
    "which is nice since it has the interpretation of a ramp in the driving strength. Otherwise, the procedure for calculation is the same as the first case."
   ]
  },
  {
   "cell_type": "code",
   "execution_count": 98,
   "id": "eeb3af73-496a-4be4-a53f-0210ee5e6e06",
   "metadata": {},
   "outputs": [],
   "source": [
    "def AGP_vary_A(lam, Ops, DOps, sz, sx, Sqtsx, N):\n",
    "    \"\"\"\n",
    "    Variational AGP construction for a given lambda.\n",
    "\n",
    "    Parameters\n",
    "    ----------\n",
    "    lam : float\n",
    "        Current value of lambda.\n",
    "    Ops : np.ndarray\n",
    "        Operator basis, shape (NOs, 2, 2, N).\n",
    "        Index order: (basis_index, a, b, t).\n",
    "    DOps : np.ndarray\n",
    "        Derivative w.r.t. phi of each operator, same shape as Ops.\n",
    "    sz, sx, Sqtsx : np.ndarray\n",
    "        Time-dependent operators (2,2,N) needed to build H(t).\n",
    "    N : int\n",
    "        Number of discrete time points.\n",
    "\n",
    "    Returns\n",
    "    -------\n",
    "    AGPapprox : np.ndarray\n",
    "        Approximate AGP tensor, shape (2, 2, N).\n",
    "    \"\"\"\n",
    "    NOs = len(Ops) #Since it is a list of operators\n",
    "\n",
    "    # Hamiltonian and its lambda derivative\n",
    "    Ht   = 1 * sz + 0.5 * sx + lam * Sqtsx  # Bz=1, g=0.5\n",
    "    dlHt = Sqtsx\n",
    "\n",
    "    # Allocate\n",
    "    gmatrices = np.empty((NOs, 2, 2, N), dtype=complex)\n",
    "    bvector   = np.empty((NOs,), dtype=complex)\n",
    "    Mmatrix   = np.empty((NOs, NOs), dtype=complex)\n",
    "\n",
    "    # Build g matrices and b vector\n",
    "    for j in range(NOs):\n",
    "        gmatrix = 1j * commutator(Ht, Ops[j]) + DOps[j]\n",
    "        gmatrices[j] = gmatrix\n",
    "        # b_j = Tr[g_j dlH], integrated over time\n",
    "        bmatrix = np.sum(np.trace(np.einsum('ijt,jkt->ikt', gmatrix, dlHt),\n",
    "                                  axis1=0, axis2=1))\n",
    "        bvector[j] = bmatrix\n",
    "\n",
    "    # Build M matrix\n",
    "    for j1 in range(NOs):\n",
    "        for j2 in range(j1+1):\n",
    "            val = np.sum(np.trace(np.einsum('ijt,jkt->ikt',\n",
    "                                            gmatrices[j1], gmatrices[j2]),\n",
    "                                  axis1=0, axis2=1))\n",
    "            Mmatrix[j1, j2] = val\n",
    "            Mmatrix[j2, j1] = val  # Hermitian\n",
    "\n",
    "    # Solve M X = b\n",
    "    Xvector = np.linalg.solve(Mmatrix, bvector)\n",
    "\n",
    "    # Construct approximate AGP\n",
    "    AGPapprox = np.einsum('j,jabt->abt', Xvector, Ops)\n",
    "\n",
    "    return AGPapprox"
   ]
  },
  {
   "cell_type": "code",
   "execution_count": 99,
   "id": "4ba416ba-232e-4182-9679-1cc792b24159",
   "metadata": {},
   "outputs": [
    {
     "data": {
      "image/png": "[encoded data removed]",
      "text/plain": [
       "<Figure size 640x480 with 1 Axes>"
      ]
     },
     "metadata": {},
     "output_type": "display_data"
    }
   ],
   "source": [
    "lambdas=np.arange(0,10,1)\n",
    "n=7\n",
    "N=2**n\n",
    "#Generate operator set\n",
    "Ops=genOs(N)\n",
    "DOps=genDOs(N)\n",
    "\n",
    "sz=Ops[2]\n",
    "sx=Ops[0]\n",
    "Sqtsx=Ops[int(N/2)*3] #sx is multiples of 3, square wave is the N/2th mode.\n",
    "\n",
    "#Calculate for a specific lambda and plot\n",
    "AGP_approx=AGP_vary_A(0.1, Ops, DOps, sz, sx, Sqtsx, N)\n",
    "plt.plot(np.abs(AGP_approx[1,1,:]))\n",
    "\n",
    "#Decompose into different paulis\n",
    "funcs=Paulit(AGP_approx)\n",
    "# for lam in lambdas:\n",
    "#     AGP_vary_A(lam, Ops, DOps, sz, sx, Sqtsx, N)"
   ]
  },
  {
   "cell_type": "code",
   "execution_count": 107,
   "id": "aba43cbe-4c43-47aa-8752-27a478dc50a0",
   "metadata": {},
   "outputs": [
    {
     "data": {
      "text/plain": [
       "[<matplotlib.lines.Line2D at 0x157cb4d50>]"
      ]
     },
     "execution_count": 107,
     "metadata": {},
     "output_type": "execute_result"
    },
    {
     "data": {
      "image/png": "[encoded data removed]",
      "text/plain": [
       "<Figure size 640x480 with 1 Axes>"
      ]
     },
     "metadata": {},
     "output_type": "display_data"
    }
   ],
   "source": [
    "plt.plot(funcs[0,:])\n",
    "plt.plot(funcs[1,:])\n",
    "plt.plot(funcs[2,:])"
   ]
  },
  {
   "cell_type": "code",
   "execution_count": 76,
   "id": "34e145e0-020e-438e-b368-969ad0319af5",
   "metadata": {},
   "outputs": [],
   "source": [
    "lambdas=np.arange(0,10,1)\n",
    "n=4\n",
    "N=2**n\n",
    "#Generate operator set\n",
    "Ops=genOs(N)\n",
    "DOps=genDOs(N)\n",
    "\n",
    "sz=Ops[2]\n",
    "sx=Ops[0]\n",
    "Sqtsx=Ops[int(N/2)*3] #sx is multiples of 3, square wave is the N/2th mode.\n",
    "\n",
    "#Calculate for a specific lambda and plot\n",
    "AGP_approx2=AGP_vary_A(1, Ops, DOps, sz, sx, Sqtsx, N)"
   ]
  },
  {
   "cell_type": "code",
   "execution_count": 194,
   "id": "bc9c4940-bb68-4348-9bbf-96d2aa20565b",
   "metadata": {},
   "outputs": [
    {
     "data": {
      "text/plain": [
       "array([[-0.00000000e+00+0.j, -4.77083202e-16+4.j],\n",
       "       [-4.77083202e-16+4.j, -0.00000000e+00+0.j]])"
      ]
     },
     "execution_count": 194,
     "metadata": {},
     "output_type": "execute_result"
    }
   ],
   "source": [
    "DOps[3][:,:,6]"
   ]
  },
  {
   "cell_type": "code",
   "execution_count": 7,
   "id": "916c3063-40d0-4da0-84bf-dcf8e32f7f5e",
   "metadata": {},
   "outputs": [
    {
     "data": {
      "text/plain": [
       "<matplotlib.image.AxesImage at 0x1278c3b10>"
      ]
     },
     "execution_count": 7,
     "metadata": {},
     "output_type": "execute_result"
    },
    {
     "data": {
      "image/png": "[encoded data removed]",
      "text/plain": [
       "<Figure size 640x480 with 1 Axes>"
      ]
     },
     "metadata": {},
     "output_type": "display_data"
    }
   ],
   "source": [
    "plt.imshow(np.abs(Mmatrix))"
   ]
  },
  {
   "cell_type": "code",
   "execution_count": 174,
   "id": "ec9265f4-8409-4f6f-ac4b-e51a003852a9",
   "metadata": {},
   "outputs": [
    {
     "data": {
      "text/plain": [
       "array([[24,  0],\n",
       "       [ 0, 24]])"
      ]
     },
     "execution_count": 174,
     "metadata": {},
     "output_type": "execute_result"
    }
   ],
   "source": [
    "np.sum(np.einsum('ijt,jkt->ikt', Ht, Ops[12]),axis=2)"
   ]
  },
  {
   "cell_type": "markdown",
   "id": "3bd6c3c6-e0a7-47a7-b8b8-48d2f5d71512",
   "metadata": {},
   "source": [
    "# Case 2\n",
    "Can we write everything in the Walsh basis to speed up the code? Gets hard just because we have phi phi terms which are a convolution in the Walsh basis, which is not obvious at all.\n",
    "As the simplest first case we study\n",
    "$$H(t)= \\lambda \\sigma^z + (g+ A\\cdot \\text{Sq}(t)) \\sigma^x.$$\n",
    "\n",
    "We store this information by using three indices. The Hamiltonian is H(t) is written as H[i,j,t] where the third direction gives time. To take the trace over the physical Hilbert space part, it is just ```numpy.trace(H, axis1=0, axis2=1).``` All the operators are also written this way.\n",
    "\n",
    "What we ultimately want to calculate is\n",
    "$$\n",
    "\\begin{align}\n",
    "M_{jk}(\\lambda)&= \\int \\text{d}\\phi\\, \\mathrm{Tr} \\left[ g_{j,\\lambda}(\\phi)g_{k,\\lambda}(\\phi) \\right] \\\\\n",
    "b_{j}(\\lambda)&= \\int \\text{d}\\phi \\mathrm{Tr} \\left[ g_{j,\\lambda}(\\phi) \\partial_{\\lambda} H_{\\lambda}(\\phi) \\right] \\\\\n",
    "g_{j,\\lambda}(\\phi)&= i[H_{\\lambda}(\\phi), O_{j}(\\phi)] +\\partial_{\\phi}(O_{j}(\\phi))\n",
    "\\end{align}\n",
    "$$\n",
    "\n",
    "We store the $O_j$ as \"Ops\" where the first three elements are time independent $\\sigma_x, \\sigma_y, \\sigma_z$ then the next three are $\\sigma_x W_1(t), \\sigma_y W_1(t), \\sigma_z W_1(t)$ where the label is the natural ordering for the Walsh and so varies with $N$. Working natively in the Walsh basis, we find that we can write \n",
    "$\\sum_\\phi A_\\phi B_\\phi = \\sum_l \\tilde{A}_l \\tilde{B}_l$ where the Walsh modes come from $A_\\phi = \\sum W_l(\\phi) \\tilde{A}_l$. This means that when expressed natively in the Walsh basis, we have\n",
    "$$\n",
    "\\begin{align}\n",
    "M_{jk}(\\lambda)&= \\sum_l \\, \\mathrm{Tr} \\left[ \\tilde{g}_{j,\\lambda,l} \\tilde{g}_{k,\\lambda,l} \\right] \\\\\n",
    "b_{j}(\\lambda)&= \\sum_l \\mathrm{Tr} \\left[ \\tilde{g}_{j,\\lambda,l} \\partial_{\\lambda} \\tilde{H}_{\\lambda,l} \\right] \\\\\n",
    "g_{j,\\lambda}(\\phi)&= i[H_{\\lambda}(\\phi), O_{j}(\\phi)] +\\partial_{\\phi}(O_{j}(\\phi))\n",
    "\\end{align}\n",
    "$$"
   ]
  },
  {
   "cell_type": "markdown",
   "id": "0e2dbc69-e972-471c-a429-4fa087d4a702",
   "metadata": {},
   "source": [
    "# Extensive Checks"
   ]
  },
  {
   "cell_type": "markdown",
   "id": "17743e58-6004-4a37-99ee-a190c9c923f7",
   "metadata": {},
   "source": [
    "## Check on the Ops functions\n",
    "Here we check that all the Ops functions are working as expected."
   ]
  },
  {
   "cell_type": "code",
   "execution_count": 235,
   "id": "a2ed950f-4e34-48bf-9518-65b15e4bb043",
   "metadata": {},
   "outputs": [
    {
     "data": {
      "text/plain": [
       "array([ 1.+1.48959365e-16j,  1.-1.48959365e-16j, -1.-1.48959365e-16j,\n",
       "       -1.+1.48959365e-16j])"
      ]
     },
     "execution_count": 235,
     "metadata": {},
     "output_type": "execute_result"
    }
   ],
   "source": [
    "DOps=genDOs(4) #Generate the time derivative of the operators in the correct way using the discretised derivative. \n",
    "DOps[6][0,1,:] #Derivative of Walsh2 which is -Walsh3\n",
    "DOps[9][0,1,:] #Derivative of Walsh3 which is Walsh2"
   ]
  },
  {
   "cell_type": "code",
   "execution_count": 212,
   "id": "b0c42b7e-e7a6-43f0-8088-b8ffb198b4ac",
   "metadata": {},
   "outputs": [
    {
     "name": "stdout",
     "output_type": "stream",
     "text": [
      "equal? original vs einsum: True\n",
      "equal? original vs swap  : True\n",
      "\n",
      "Timings over 10000 runs:\n",
      "original      : 0.0604 s\n",
      "einsum_fast   : 0.0883 s\n",
      "swapmul_fast  : 0.0164 s\n"
     ]
    }
   ],
   "source": [
    "def original(g, d):\n",
    "    # If your real dlHt is (J, K, T), transpose once here to (J, I, T) before benchmarking\n",
    "    # d = d.transpose(0,2,1)  # uncomment if needed\n",
    "    return np.sum(np.trace(np.einsum('ijt,jkt->ikt', g, d), axis1=0, axis2=1))\n",
    "\n",
    "def einsum_fast(g, d):\n",
    "    return np.einsum('ijt,jit->', g, d, optimize=True)\n",
    "\n",
    "def swapmul_fast(g, d):\n",
    "    return (g * d.swapaxes(0, 1)).sum()\n",
    "\n",
    "# correctness check\n",
    "r1 = original(gmatrix, dlHt)\n",
    "r2 = einsum_fast(gmatrix, dlHt)\n",
    "r3 = swapmul_fast(gmatrix, dlHt)\n",
    "print(\"equal? original vs einsum:\", np.allclose(r1, r2))\n",
    "print(\"equal? original vs swap  :\", np.allclose(r1, r3))\n",
    "\n",
    "# timing\n",
    "n = 10000\n",
    "t1 = timeit.timeit(lambda: original(gmatrix, dlHt), number=n)\n",
    "t2 = timeit.timeit(lambda: einsum_fast(gmatrix, dlHt), number=n)\n",
    "t3 = timeit.timeit(lambda: swapmul_fast(gmatrix, dlHt), number=n)\n",
    "\n",
    "print(f\"\\nTimings over {n} runs:\")\n",
    "print(f\"original      : {t1:.4f} s\")\n",
    "print(f\"einsum_fast   : {t2:.4f} s\")\n",
    "print(f\"swapmul_fast  : {t3:.4f} s\")"
   ]
  },
  {
   "cell_type": "code",
   "execution_count": null,
   "id": "c785cfec-8100-4b8b-b0c2-7edd3ee5f618",
   "metadata": {},
   "outputs": [],
   "source": []
  }
 ],
 "metadata": {
  "kernelspec": {
   "display_name": "Python 3 (ipykernel)",
   "language": "python",
   "name": "python3"
  },
  "language_info": {
   "codemirror_mode": {
    "name": "ipython",
    "version": 3
   },
   "file_extension": ".py",
   "mimetype": "text/x-python",
   "name": "python",
   "nbconvert_exporter": "python",
   "pygments_lexer": "ipython3",
   "version": "3.11.5"
  }
 },
 "nbformat": 4,
 "nbformat_minor": 5
}
